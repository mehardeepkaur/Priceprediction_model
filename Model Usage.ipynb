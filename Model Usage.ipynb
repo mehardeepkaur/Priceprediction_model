{
 "cells": [
  {
   "cell_type": "code",
   "execution_count": 1,
   "id": "6ddf607a",
   "metadata": {},
   "outputs": [],
   "source": [
    "from joblib import dump,load\n",
    "import numpy as np \n",
    "model = load('ML_model.joblib')"
   ]
  },
  {
   "cell_type": "code",
   "execution_count": 2,
   "id": "7ed61dba",
   "metadata": {},
   "outputs": [
    {
     "data": {
      "text/plain": [
       "array([24.297])"
      ]
     },
     "execution_count": 2,
     "metadata": {},
     "output_type": "execute_result"
    }
   ],
   "source": [
    "features = np.array([[-0.43942006,  5.12628155, -1.12165014, -0.27288841, -1.42262747,\n",
    "       -11.44024664, -1.31238772,  2.61111401, -14.0016859 , -0.5778192 ,\n",
    "       -0.97491834,  0.41164221, -10.86091034]])\n",
    "model.predict(features)"
   ]
  },
  {
   "cell_type": "code",
   "execution_count": 3,
   "id": "27fd0f98",
   "metadata": {},
   "outputs": [
    {
     "data": {
      "text/plain": [
       "array([24.337])"
      ]
     },
     "execution_count": 3,
     "metadata": {},
     "output_type": "execute_result"
    }
   ],
   "source": [
    "features = np.array([[-9.43942006,  5.12628155, -1.12165014, -0.27288841, -1.42262747,\n",
    "       -11.44024664, -1.31238772,  2.61111401, -14.0016859 , -0.5778192 ,\n",
    "       -0.97491834,  0.41164221, -10.86091034]])\n",
    "model.predict(features)"
   ]
  },
  {
   "cell_type": "code",
   "execution_count": 4,
   "id": "40db6b3f",
   "metadata": {},
   "outputs": [
    {
     "data": {
      "text/plain": [
       "array([24.284])"
      ]
     },
     "execution_count": 4,
     "metadata": {},
     "output_type": "execute_result"
    }
   ],
   "source": [
    "features = np.array([[-9.43942006,  5.12628155, -1.12165014, -0.27288841, -1.42262747,\n",
    "       -9.44024664, -1.31238772,  2.61111401, -4.0016859 , -0.5778192 ,\n",
    "       -.1197491834,  0.41164221, -10.86091034]])\n",
    "model.predict(features)"
   ]
  },
  {
   "cell_type": "code",
   "execution_count": null,
   "id": "f58008d2",
   "metadata": {},
   "outputs": [],
   "source": []
  }
 ],
 "metadata": {
  "kernelspec": {
   "display_name": "Python 3 (ipykernel)",
   "language": "python",
   "name": "python3"
  },
  "language_info": {
   "codemirror_mode": {
    "name": "ipython",
    "version": 3
   },
   "file_extension": ".py",
   "mimetype": "text/x-python",
   "name": "python",
   "nbconvert_exporter": "python",
   "pygments_lexer": "ipython3",
   "version": "3.10.0"
  }
 },
 "nbformat": 4,
 "nbformat_minor": 5
}
